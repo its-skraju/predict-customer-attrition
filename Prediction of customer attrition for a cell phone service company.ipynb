{
 "cells": [
  {
   "cell_type": "markdown",
   "metadata": {},
   "source": [
    "# Prediction of customer attrition for a cell phone service company"
   ]
  },
  {
   "cell_type": "markdown",
   "metadata": {},
   "source": [
    "# Importing the Modules"
   ]
  },
  {
   "cell_type": "code",
   "execution_count": 1,
   "metadata": {},
   "outputs": [],
   "source": [
    "import numpy as np\n",
    "import matplotlib.pyplot as plt\n",
    "import pandas as pd\n",
    "import seaborn as sns\n",
    "from IPython.display import display"
   ]
  },
  {
   "cell_type": "markdown",
   "metadata": {},
   "source": [
    "# Fitting all the columns in page width"
   ]
  },
  {
   "cell_type": "code",
   "execution_count": 2,
   "metadata": {},
   "outputs": [],
   "source": [
    "pd.pandas.set_option('display.max_columns', None)"
   ]
  },
  {
   "cell_type": "markdown",
   "metadata": {},
   "source": [
    "# Importing the datasets"
   ]
  },
  {
   "cell_type": "code",
   "execution_count": 3,
   "metadata": {},
   "outputs": [],
   "source": [
    "dataset = pd.read_excel('C:/Users/MSI-PC/Documents/DataSets/Customer_Attrition_CellPhone.xlsx')"
   ]
  },
  {
   "cell_type": "markdown",
   "metadata": {},
   "source": [
    "# Understanding the dataset"
   ]
  },
  {
   "cell_type": "code",
   "execution_count": 4,
   "metadata": {},
   "outputs": [
    {
     "name": "stdout",
     "output_type": "stream",
     "text": [
      "(3331, 14)\n"
     ]
    }
   ],
   "source": [
    "print(dataset.shape)"
   ]
  },
  {
   "cell_type": "code",
   "execution_count": 5,
   "metadata": {},
   "outputs": [
    {
     "data": {
      "text/html": [
       "<div>\n",
       "<style scoped>\n",
       "    .dataframe tbody tr th:only-of-type {\n",
       "        vertical-align: middle;\n",
       "    }\n",
       "\n",
       "    .dataframe tbody tr th {\n",
       "        vertical-align: top;\n",
       "    }\n",
       "\n",
       "    .dataframe thead th {\n",
       "        text-align: right;\n",
       "    }\n",
       "</style>\n",
       "<table border=\"1\" class=\"dataframe\">\n",
       "  <thead>\n",
       "    <tr style=\"text-align: right;\">\n",
       "      <th></th>\n",
       "      <th>Sno</th>\n",
       "      <th>Customer_ID</th>\n",
       "      <th>Weeks</th>\n",
       "      <th>Contract_Renewal</th>\n",
       "      <th>Data_Plan</th>\n",
       "      <th>Data_Usage</th>\n",
       "      <th>Calls_To_Customer_Care</th>\n",
       "      <th>DayMins</th>\n",
       "      <th>DayCalls</th>\n",
       "      <th>MonthlyCharge</th>\n",
       "      <th>OverageFee</th>\n",
       "      <th>RoamMins</th>\n",
       "      <th>Customer_Attrition</th>\n",
       "      <th>Inserted_Date</th>\n",
       "    </tr>\n",
       "  </thead>\n",
       "  <tbody>\n",
       "    <tr>\n",
       "      <th>0</th>\n",
       "      <td>1</td>\n",
       "      <td>2951997.0</td>\n",
       "      <td>57.0</td>\n",
       "      <td>1.0</td>\n",
       "      <td>1.0</td>\n",
       "      <td>2.57</td>\n",
       "      <td>0.0</td>\n",
       "      <td>213.0</td>\n",
       "      <td>115.0</td>\n",
       "      <td>78.7</td>\n",
       "      <td>9.56</td>\n",
       "      <td>9.5</td>\n",
       "      <td>No</td>\n",
       "      <td>2012-05-01</td>\n",
       "    </tr>\n",
       "    <tr>\n",
       "      <th>1</th>\n",
       "      <td>2</td>\n",
       "      <td>2461448.0</td>\n",
       "      <td>54.0</td>\n",
       "      <td>1.0</td>\n",
       "      <td>0.0</td>\n",
       "      <td>0.00</td>\n",
       "      <td>3.0</td>\n",
       "      <td>134.3</td>\n",
       "      <td>73.0</td>\n",
       "      <td>37.0</td>\n",
       "      <td>7.78</td>\n",
       "      <td>14.7</td>\n",
       "      <td>No</td>\n",
       "      <td>2012-05-01</td>\n",
       "    </tr>\n",
       "    <tr>\n",
       "      <th>2</th>\n",
       "      <td>3</td>\n",
       "      <td>3573953.0</td>\n",
       "      <td>20.0</td>\n",
       "      <td>1.0</td>\n",
       "      <td>0.0</td>\n",
       "      <td>0.32</td>\n",
       "      <td>0.0</td>\n",
       "      <td>190.0</td>\n",
       "      <td>109.0</td>\n",
       "      <td>58.2</td>\n",
       "      <td>12.91</td>\n",
       "      <td>6.3</td>\n",
       "      <td>No</td>\n",
       "      <td>2012-05-01</td>\n",
       "    </tr>\n",
       "    <tr>\n",
       "      <th>3</th>\n",
       "      <td>4</td>\n",
       "      <td>728293.0</td>\n",
       "      <td>49.0</td>\n",
       "      <td>1.0</td>\n",
       "      <td>0.0</td>\n",
       "      <td>0.21</td>\n",
       "      <td>1.0</td>\n",
       "      <td>119.3</td>\n",
       "      <td>117.0</td>\n",
       "      <td>41.1</td>\n",
       "      <td>10.76</td>\n",
       "      <td>11.1</td>\n",
       "      <td>No</td>\n",
       "      <td>2012-05-01</td>\n",
       "    </tr>\n",
       "    <tr>\n",
       "      <th>4</th>\n",
       "      <td>5</td>\n",
       "      <td>6987894.0</td>\n",
       "      <td>142.0</td>\n",
       "      <td>1.0</td>\n",
       "      <td>0.0</td>\n",
       "      <td>0.00</td>\n",
       "      <td>2.0</td>\n",
       "      <td>84.8</td>\n",
       "      <td>95.0</td>\n",
       "      <td>27.0</td>\n",
       "      <td>6.84</td>\n",
       "      <td>14.2</td>\n",
       "      <td>No</td>\n",
       "      <td>2012-05-01</td>\n",
       "    </tr>\n",
       "  </tbody>\n",
       "</table>\n",
       "</div>"
      ],
      "text/plain": [
       "   Sno  Customer_ID  Weeks  Contract_Renewal  Data_Plan  Data_Usage  \\\n",
       "0    1    2951997.0   57.0               1.0        1.0        2.57   \n",
       "1    2    2461448.0   54.0               1.0        0.0        0.00   \n",
       "2    3    3573953.0   20.0               1.0        0.0        0.32   \n",
       "3    4     728293.0   49.0               1.0        0.0        0.21   \n",
       "4    5    6987894.0  142.0               1.0        0.0        0.00   \n",
       "\n",
       "   Calls_To_Customer_Care  DayMins  DayCalls  MonthlyCharge  OverageFee  \\\n",
       "0                     0.0    213.0     115.0           78.7        9.56   \n",
       "1                     3.0    134.3      73.0           37.0        7.78   \n",
       "2                     0.0    190.0     109.0           58.2       12.91   \n",
       "3                     1.0    119.3     117.0           41.1       10.76   \n",
       "4                     2.0     84.8      95.0           27.0        6.84   \n",
       "\n",
       "   RoamMins Customer_Attrition Inserted_Date  \n",
       "0       9.5                 No    2012-05-01  \n",
       "1      14.7                 No    2012-05-01  \n",
       "2       6.3                 No    2012-05-01  \n",
       "3      11.1                 No    2012-05-01  \n",
       "4      14.2                 No    2012-05-01  "
      ]
     },
     "execution_count": 5,
     "metadata": {},
     "output_type": "execute_result"
    }
   ],
   "source": [
    "dataset.head()"
   ]
  },
  {
   "cell_type": "code",
   "execution_count": 6,
   "metadata": {},
   "outputs": [
    {
     "data": {
      "text/html": [
       "<div>\n",
       "<style scoped>\n",
       "    .dataframe tbody tr th:only-of-type {\n",
       "        vertical-align: middle;\n",
       "    }\n",
       "\n",
       "    .dataframe tbody tr th {\n",
       "        vertical-align: top;\n",
       "    }\n",
       "\n",
       "    .dataframe thead th {\n",
       "        text-align: right;\n",
       "    }\n",
       "</style>\n",
       "<table border=\"1\" class=\"dataframe\">\n",
       "  <thead>\n",
       "    <tr style=\"text-align: right;\">\n",
       "      <th></th>\n",
       "      <th>Sno</th>\n",
       "      <th>Customer_ID</th>\n",
       "      <th>Weeks</th>\n",
       "      <th>Contract_Renewal</th>\n",
       "      <th>Data_Plan</th>\n",
       "      <th>Data_Usage</th>\n",
       "      <th>Calls_To_Customer_Care</th>\n",
       "      <th>DayMins</th>\n",
       "      <th>DayCalls</th>\n",
       "      <th>MonthlyCharge</th>\n",
       "      <th>OverageFee</th>\n",
       "      <th>RoamMins</th>\n",
       "      <th>Customer_Attrition</th>\n",
       "      <th>Inserted_Date</th>\n",
       "    </tr>\n",
       "  </thead>\n",
       "  <tbody>\n",
       "    <tr>\n",
       "      <th>3326</th>\n",
       "      <td>3327</td>\n",
       "      <td>2461694.0</td>\n",
       "      <td>77.0</td>\n",
       "      <td>1.0</td>\n",
       "      <td>0.0</td>\n",
       "      <td>0.00</td>\n",
       "      <td>5.0</td>\n",
       "      <td>62.4</td>\n",
       "      <td>89.0</td>\n",
       "      <td>26.0</td>\n",
       "      <td>8.50</td>\n",
       "      <td>5.7</td>\n",
       "      <td>Yes</td>\n",
       "      <td>2012-05-01</td>\n",
       "    </tr>\n",
       "    <tr>\n",
       "      <th>3327</th>\n",
       "      <td>3328</td>\n",
       "      <td>4893124.0</td>\n",
       "      <td>130.0</td>\n",
       "      <td>1.0</td>\n",
       "      <td>0.0</td>\n",
       "      <td>0.00</td>\n",
       "      <td>0.0</td>\n",
       "      <td>183.0</td>\n",
       "      <td>112.0</td>\n",
       "      <td>38.0</td>\n",
       "      <td>3.65</td>\n",
       "      <td>9.5</td>\n",
       "      <td>No</td>\n",
       "      <td>2012-05-01</td>\n",
       "    </tr>\n",
       "    <tr>\n",
       "      <th>3328</th>\n",
       "      <td>3329</td>\n",
       "      <td>7180907.0</td>\n",
       "      <td>111.0</td>\n",
       "      <td>1.0</td>\n",
       "      <td>0.0</td>\n",
       "      <td>0.39</td>\n",
       "      <td>2.0</td>\n",
       "      <td>110.4</td>\n",
       "      <td>103.0</td>\n",
       "      <td>34.9</td>\n",
       "      <td>6.87</td>\n",
       "      <td>7.7</td>\n",
       "      <td>No</td>\n",
       "      <td>2012-05-01</td>\n",
       "    </tr>\n",
       "    <tr>\n",
       "      <th>3329</th>\n",
       "      <td>3330</td>\n",
       "      <td>6361098.0</td>\n",
       "      <td>132.0</td>\n",
       "      <td>1.0</td>\n",
       "      <td>0.0</td>\n",
       "      <td>0.00</td>\n",
       "      <td>0.0</td>\n",
       "      <td>81.1</td>\n",
       "      <td>86.0</td>\n",
       "      <td>35.0</td>\n",
       "      <td>12.26</td>\n",
       "      <td>10.3</td>\n",
       "      <td>No</td>\n",
       "      <td>2012-05-01</td>\n",
       "    </tr>\n",
       "    <tr>\n",
       "      <th>3330</th>\n",
       "      <td>3331</td>\n",
       "      <td>8589875.0</td>\n",
       "      <td>174.0</td>\n",
       "      <td>1.0</td>\n",
       "      <td>0.0</td>\n",
       "      <td>0.00</td>\n",
       "      <td>3.0</td>\n",
       "      <td>124.3</td>\n",
       "      <td>76.0</td>\n",
       "      <td>45.0</td>\n",
       "      <td>13.86</td>\n",
       "      <td>15.5</td>\n",
       "      <td>No</td>\n",
       "      <td>2012-05-01</td>\n",
       "    </tr>\n",
       "  </tbody>\n",
       "</table>\n",
       "</div>"
      ],
      "text/plain": [
       "       Sno  Customer_ID  Weeks  Contract_Renewal  Data_Plan  Data_Usage  \\\n",
       "3326  3327    2461694.0   77.0               1.0        0.0        0.00   \n",
       "3327  3328    4893124.0  130.0               1.0        0.0        0.00   \n",
       "3328  3329    7180907.0  111.0               1.0        0.0        0.39   \n",
       "3329  3330    6361098.0  132.0               1.0        0.0        0.00   \n",
       "3330  3331    8589875.0  174.0               1.0        0.0        0.00   \n",
       "\n",
       "      Calls_To_Customer_Care  DayMins  DayCalls  MonthlyCharge  OverageFee  \\\n",
       "3326                     5.0     62.4      89.0           26.0        8.50   \n",
       "3327                     0.0    183.0     112.0           38.0        3.65   \n",
       "3328                     2.0    110.4     103.0           34.9        6.87   \n",
       "3329                     0.0     81.1      86.0           35.0       12.26   \n",
       "3330                     3.0    124.3      76.0           45.0       13.86   \n",
       "\n",
       "      RoamMins Customer_Attrition Inserted_Date  \n",
       "3326       5.7                Yes    2012-05-01  \n",
       "3327       9.5                 No    2012-05-01  \n",
       "3328       7.7                 No    2012-05-01  \n",
       "3329      10.3                 No    2012-05-01  \n",
       "3330      15.5                 No    2012-05-01  "
      ]
     },
     "execution_count": 6,
     "metadata": {},
     "output_type": "execute_result"
    }
   ],
   "source": [
    "dataset.tail()"
   ]
  },
  {
   "cell_type": "markdown",
   "metadata": {},
   "source": [
    "Finding the length of unique values for each attribute"
   ]
  },
  {
   "cell_type": "code",
   "execution_count": 7,
   "metadata": {},
   "outputs": [
    {
     "data": {
      "text/plain": [
       "Sno                       3331\n",
       "Customer_ID               3326\n",
       "Weeks                      212\n",
       "Contract_Renewal             2\n",
       "Data_Plan                    2\n",
       "Data_Usage                 174\n",
       "Calls_To_Customer_Care      10\n",
       "DayMins                   1667\n",
       "DayCalls                   119\n",
       "MonthlyCharge              656\n",
       "OverageFee                1024\n",
       "RoamMins                   162\n",
       "Customer_Attrition           2\n",
       "Inserted_Date                1\n",
       "dtype: int64"
      ]
     },
     "execution_count": 7,
     "metadata": {},
     "output_type": "execute_result"
    }
   ],
   "source": [
    "dataset.nunique()"
   ]
  },
  {
   "cell_type": "code",
   "execution_count": null,
   "metadata": {},
   "outputs": [],
   "source": []
  },
  {
   "cell_type": "markdown",
   "metadata": {},
   "source": [
    "# Understanding of variables"
   ]
  },
  {
   "cell_type": "code",
   "execution_count": 8,
   "metadata": {},
   "outputs": [
    {
     "data": {
      "text/plain": [
       "Sno                                int64\n",
       "Customer_ID                      float64\n",
       "Weeks                            float64\n",
       "Contract_Renewal                 float64\n",
       "Data_Plan                        float64\n",
       "Data_Usage                       float64\n",
       "Calls_To_Customer_Care           float64\n",
       "DayMins                          float64\n",
       "DayCalls                         float64\n",
       "MonthlyCharge                    float64\n",
       "OverageFee                       float64\n",
       "RoamMins                         float64\n",
       "Customer_Attrition                object\n",
       "Inserted_Date             datetime64[ns]\n",
       "dtype: object"
      ]
     },
     "execution_count": 8,
     "metadata": {},
     "output_type": "execute_result"
    }
   ],
   "source": [
    "dataset.dtypes"
   ]
  },
  {
   "cell_type": "code",
   "execution_count": 9,
   "metadata": {},
   "outputs": [
    {
     "data": {
      "text/plain": [
       "array([ 1.,  0., nan])"
      ]
     },
     "execution_count": 9,
     "metadata": {},
     "output_type": "execute_result"
    }
   ],
   "source": [
    "dataset.Contract_Renewal.unique()"
   ]
  },
  {
   "cell_type": "code",
   "execution_count": 10,
   "metadata": {},
   "outputs": [
    {
     "data": {
      "text/plain": [
       "array([ 1.,  0., nan])"
      ]
     },
     "execution_count": 10,
     "metadata": {},
     "output_type": "execute_result"
    }
   ],
   "source": [
    "dataset.Data_Plan.unique()"
   ]
  },
  {
   "cell_type": "code",
   "execution_count": 11,
   "metadata": {},
   "outputs": [
    {
     "data": {
      "text/plain": [
       "array(['No', 'Yes', nan], dtype=object)"
      ]
     },
     "execution_count": 11,
     "metadata": {},
     "output_type": "execute_result"
    }
   ],
   "source": [
    "dataset.Customer_Attrition.unique()"
   ]
  },
  {
   "cell_type": "code",
   "execution_count": 12,
   "metadata": {},
   "outputs": [],
   "source": [
    "dataset = dataset.drop(['Sno','Customer_ID','Inserted_Date'], axis=1)"
   ]
  },
  {
   "cell_type": "markdown",
   "metadata": {},
   "source": [
    "# Searching missing values and duplicate rows"
   ]
  },
  {
   "cell_type": "code",
   "execution_count": 13,
   "metadata": {},
   "outputs": [
    {
     "name": "stdout",
     "output_type": "stream",
     "text": [
      "Weeks 0.0901  % missing values\n",
      "Contract_Renewal 0.2702  % missing values\n",
      "Data_Plan 0.1201  % missing values\n",
      "DayMins 0.06  % missing values\n",
      "MonthlyCharge 0.06  % missing values\n"
     ]
    }
   ],
   "source": [
    "#This will check the missing values percentage in columns \n",
    "features_with_na=[features for features in dataset.columns if dataset[features].isnull().sum()>1]\n",
    "for feature in features_with_na:\n",
    "    print(feature, np.round(dataset[feature].isnull().mean()*100, 4),  ' % missing values')"
   ]
  },
  {
   "cell_type": "code",
   "execution_count": 14,
   "metadata": {},
   "outputs": [],
   "source": [
    "null_data = dataset[dataset.isnull().any(axis=1)]"
   ]
  },
  {
   "cell_type": "code",
   "execution_count": 15,
   "metadata": {},
   "outputs": [
    {
     "data": {
      "text/plain": [
       "(16, 11)"
      ]
     },
     "execution_count": 15,
     "metadata": {},
     "output_type": "execute_result"
    }
   ],
   "source": [
    "null_data.shape"
   ]
  },
  {
   "cell_type": "code",
   "execution_count": 16,
   "metadata": {},
   "outputs": [
    {
     "data": {
      "text/html": [
       "<div>\n",
       "<style scoped>\n",
       "    .dataframe tbody tr th:only-of-type {\n",
       "        vertical-align: middle;\n",
       "    }\n",
       "\n",
       "    .dataframe tbody tr th {\n",
       "        vertical-align: top;\n",
       "    }\n",
       "\n",
       "    .dataframe thead th {\n",
       "        text-align: right;\n",
       "    }\n",
       "</style>\n",
       "<table border=\"1\" class=\"dataframe\">\n",
       "  <thead>\n",
       "    <tr style=\"text-align: right;\">\n",
       "      <th></th>\n",
       "      <th>Weeks</th>\n",
       "      <th>Contract_Renewal</th>\n",
       "      <th>Data_Plan</th>\n",
       "      <th>Data_Usage</th>\n",
       "      <th>Calls_To_Customer_Care</th>\n",
       "      <th>DayMins</th>\n",
       "      <th>DayCalls</th>\n",
       "      <th>MonthlyCharge</th>\n",
       "      <th>OverageFee</th>\n",
       "      <th>RoamMins</th>\n",
       "      <th>Customer_Attrition</th>\n",
       "    </tr>\n",
       "  </thead>\n",
       "  <tbody>\n",
       "    <tr>\n",
       "      <th>66</th>\n",
       "      <td>78.0</td>\n",
       "      <td>1.0</td>\n",
       "      <td>0.0</td>\n",
       "      <td>0.00</td>\n",
       "      <td>3.0</td>\n",
       "      <td>NaN</td>\n",
       "      <td>93.0</td>\n",
       "      <td>59.0</td>\n",
       "      <td>8.92</td>\n",
       "      <td>9.5</td>\n",
       "      <td>No</td>\n",
       "    </tr>\n",
       "    <tr>\n",
       "      <th>95</th>\n",
       "      <td>121.0</td>\n",
       "      <td>1.0</td>\n",
       "      <td>NaN</td>\n",
       "      <td>0.00</td>\n",
       "      <td>3.0</td>\n",
       "      <td>190.7</td>\n",
       "      <td>103.0</td>\n",
       "      <td>49.0</td>\n",
       "      <td>9.18</td>\n",
       "      <td>9.8</td>\n",
       "      <td>No</td>\n",
       "    </tr>\n",
       "    <tr>\n",
       "      <th>114</th>\n",
       "      <td>120.0</td>\n",
       "      <td>NaN</td>\n",
       "      <td>1.0</td>\n",
       "      <td>2.84</td>\n",
       "      <td>0.0</td>\n",
       "      <td>200.3</td>\n",
       "      <td>68.0</td>\n",
       "      <td>81.4</td>\n",
       "      <td>11.02</td>\n",
       "      <td>10.5</td>\n",
       "      <td>No</td>\n",
       "    </tr>\n",
       "    <tr>\n",
       "      <th>275</th>\n",
       "      <td>NaN</td>\n",
       "      <td>1.0</td>\n",
       "      <td>0.0</td>\n",
       "      <td>0.00</td>\n",
       "      <td>0.0</td>\n",
       "      <td>170.4</td>\n",
       "      <td>108.0</td>\n",
       "      <td>59.0</td>\n",
       "      <td>17.53</td>\n",
       "      <td>11.2</td>\n",
       "      <td>Yes</td>\n",
       "    </tr>\n",
       "    <tr>\n",
       "      <th>314</th>\n",
       "      <td>NaN</td>\n",
       "      <td>NaN</td>\n",
       "      <td>NaN</td>\n",
       "      <td>NaN</td>\n",
       "      <td>NaN</td>\n",
       "      <td>NaN</td>\n",
       "      <td>NaN</td>\n",
       "      <td>NaN</td>\n",
       "      <td>NaN</td>\n",
       "      <td>NaN</td>\n",
       "      <td>NaN</td>\n",
       "    </tr>\n",
       "    <tr>\n",
       "      <th>410</th>\n",
       "      <td>100.0</td>\n",
       "      <td>1.0</td>\n",
       "      <td>NaN</td>\n",
       "      <td>0.32</td>\n",
       "      <td>0.0</td>\n",
       "      <td>278.0</td>\n",
       "      <td>76.0</td>\n",
       "      <td>66.2</td>\n",
       "      <td>8.84</td>\n",
       "      <td>8.3</td>\n",
       "      <td>Yes</td>\n",
       "    </tr>\n",
       "    <tr>\n",
       "      <th>502</th>\n",
       "      <td>NaN</td>\n",
       "      <td>0.0</td>\n",
       "      <td>0.0</td>\n",
       "      <td>0.19</td>\n",
       "      <td>0.0</td>\n",
       "      <td>68.5</td>\n",
       "      <td>110.0</td>\n",
       "      <td>42.9</td>\n",
       "      <td>16.86</td>\n",
       "      <td>12.1</td>\n",
       "      <td>No</td>\n",
       "    </tr>\n",
       "    <tr>\n",
       "      <th>507</th>\n",
       "      <td>67.0</td>\n",
       "      <td>1.0</td>\n",
       "      <td>0.0</td>\n",
       "      <td>0.22</td>\n",
       "      <td>4.0</td>\n",
       "      <td>310.4</td>\n",
       "      <td>97.0</td>\n",
       "      <td>NaN</td>\n",
       "      <td>3.33</td>\n",
       "      <td>9.2</td>\n",
       "      <td>No</td>\n",
       "    </tr>\n",
       "    <tr>\n",
       "      <th>560</th>\n",
       "      <td>114.0</td>\n",
       "      <td>NaN</td>\n",
       "      <td>0.0</td>\n",
       "      <td>0.40</td>\n",
       "      <td>1.0</td>\n",
       "      <td>169.6</td>\n",
       "      <td>85.0</td>\n",
       "      <td>38.0</td>\n",
       "      <td>2.95</td>\n",
       "      <td>7.4</td>\n",
       "      <td>No</td>\n",
       "    </tr>\n",
       "    <tr>\n",
       "      <th>585</th>\n",
       "      <td>151.0</td>\n",
       "      <td>1.0</td>\n",
       "      <td>NaN</td>\n",
       "      <td>0.24</td>\n",
       "      <td>4.0</td>\n",
       "      <td>156.4</td>\n",
       "      <td>108.0</td>\n",
       "      <td>49.4</td>\n",
       "      <td>11.67</td>\n",
       "      <td>7.7</td>\n",
       "      <td>No</td>\n",
       "    </tr>\n",
       "    <tr>\n",
       "      <th>684</th>\n",
       "      <td>129.0</td>\n",
       "      <td>NaN</td>\n",
       "      <td>0.0</td>\n",
       "      <td>0.00</td>\n",
       "      <td>4.0</td>\n",
       "      <td>143.7</td>\n",
       "      <td>114.0</td>\n",
       "      <td>50.0</td>\n",
       "      <td>14.89</td>\n",
       "      <td>11.4</td>\n",
       "      <td>No</td>\n",
       "    </tr>\n",
       "    <tr>\n",
       "      <th>1322</th>\n",
       "      <td>71.0</td>\n",
       "      <td>NaN</td>\n",
       "      <td>1.0</td>\n",
       "      <td>1.51</td>\n",
       "      <td>2.0</td>\n",
       "      <td>141.4</td>\n",
       "      <td>107.0</td>\n",
       "      <td>53.1</td>\n",
       "      <td>8.15</td>\n",
       "      <td>5.6</td>\n",
       "      <td>No</td>\n",
       "    </tr>\n",
       "    <tr>\n",
       "      <th>1406</th>\n",
       "      <td>79.0</td>\n",
       "      <td>NaN</td>\n",
       "      <td>0.0</td>\n",
       "      <td>0.00</td>\n",
       "      <td>1.0</td>\n",
       "      <td>220.9</td>\n",
       "      <td>107.0</td>\n",
       "      <td>54.0</td>\n",
       "      <td>9.61</td>\n",
       "      <td>12.2</td>\n",
       "      <td>No</td>\n",
       "    </tr>\n",
       "    <tr>\n",
       "      <th>1513</th>\n",
       "      <td>117.0</td>\n",
       "      <td>NaN</td>\n",
       "      <td>0.0</td>\n",
       "      <td>0.00</td>\n",
       "      <td>3.0</td>\n",
       "      <td>102.3</td>\n",
       "      <td>100.0</td>\n",
       "      <td>29.0</td>\n",
       "      <td>6.76</td>\n",
       "      <td>15.7</td>\n",
       "      <td>No</td>\n",
       "    </tr>\n",
       "    <tr>\n",
       "      <th>1623</th>\n",
       "      <td>91.0</td>\n",
       "      <td>NaN</td>\n",
       "      <td>1.0</td>\n",
       "      <td>2.59</td>\n",
       "      <td>1.0</td>\n",
       "      <td>273.0</td>\n",
       "      <td>78.0</td>\n",
       "      <td>90.9</td>\n",
       "      <td>10.78</td>\n",
       "      <td>9.6</td>\n",
       "      <td>No</td>\n",
       "    </tr>\n",
       "    <tr>\n",
       "      <th>1738</th>\n",
       "      <td>111.0</td>\n",
       "      <td>NaN</td>\n",
       "      <td>0.0</td>\n",
       "      <td>0.00</td>\n",
       "      <td>4.0</td>\n",
       "      <td>132.6</td>\n",
       "      <td>125.0</td>\n",
       "      <td>42.0</td>\n",
       "      <td>11.06</td>\n",
       "      <td>12.7</td>\n",
       "      <td>Yes</td>\n",
       "    </tr>\n",
       "  </tbody>\n",
       "</table>\n",
       "</div>"
      ],
      "text/plain": [
       "      Weeks  Contract_Renewal  Data_Plan  Data_Usage  Calls_To_Customer_Care  \\\n",
       "66     78.0               1.0        0.0        0.00                     3.0   \n",
       "95    121.0               1.0        NaN        0.00                     3.0   \n",
       "114   120.0               NaN        1.0        2.84                     0.0   \n",
       "275     NaN               1.0        0.0        0.00                     0.0   \n",
       "314     NaN               NaN        NaN         NaN                     NaN   \n",
       "410   100.0               1.0        NaN        0.32                     0.0   \n",
       "502     NaN               0.0        0.0        0.19                     0.0   \n",
       "507    67.0               1.0        0.0        0.22                     4.0   \n",
       "560   114.0               NaN        0.0        0.40                     1.0   \n",
       "585   151.0               1.0        NaN        0.24                     4.0   \n",
       "684   129.0               NaN        0.0        0.00                     4.0   \n",
       "1322   71.0               NaN        1.0        1.51                     2.0   \n",
       "1406   79.0               NaN        0.0        0.00                     1.0   \n",
       "1513  117.0               NaN        0.0        0.00                     3.0   \n",
       "1623   91.0               NaN        1.0        2.59                     1.0   \n",
       "1738  111.0               NaN        0.0        0.00                     4.0   \n",
       "\n",
       "      DayMins  DayCalls  MonthlyCharge  OverageFee  RoamMins  \\\n",
       "66        NaN      93.0           59.0        8.92       9.5   \n",
       "95      190.7     103.0           49.0        9.18       9.8   \n",
       "114     200.3      68.0           81.4       11.02      10.5   \n",
       "275     170.4     108.0           59.0       17.53      11.2   \n",
       "314       NaN       NaN            NaN         NaN       NaN   \n",
       "410     278.0      76.0           66.2        8.84       8.3   \n",
       "502      68.5     110.0           42.9       16.86      12.1   \n",
       "507     310.4      97.0            NaN        3.33       9.2   \n",
       "560     169.6      85.0           38.0        2.95       7.4   \n",
       "585     156.4     108.0           49.4       11.67       7.7   \n",
       "684     143.7     114.0           50.0       14.89      11.4   \n",
       "1322    141.4     107.0           53.1        8.15       5.6   \n",
       "1406    220.9     107.0           54.0        9.61      12.2   \n",
       "1513    102.3     100.0           29.0        6.76      15.7   \n",
       "1623    273.0      78.0           90.9       10.78       9.6   \n",
       "1738    132.6     125.0           42.0       11.06      12.7   \n",
       "\n",
       "     Customer_Attrition  \n",
       "66                   No  \n",
       "95                   No  \n",
       "114                  No  \n",
       "275                 Yes  \n",
       "314                 NaN  \n",
       "410                 Yes  \n",
       "502                  No  \n",
       "507                  No  \n",
       "560                  No  \n",
       "585                  No  \n",
       "684                  No  \n",
       "1322                 No  \n",
       "1406                 No  \n",
       "1513                 No  \n",
       "1623                 No  \n",
       "1738                Yes  "
      ]
     },
     "metadata": {},
     "output_type": "display_data"
    }
   ],
   "source": [
    "display(null_data)"
   ]
  },
  {
   "cell_type": "code",
   "execution_count": 17,
   "metadata": {},
   "outputs": [
    {
     "data": {
      "text/html": [
       "<div>\n",
       "<style scoped>\n",
       "    .dataframe tbody tr th:only-of-type {\n",
       "        vertical-align: middle;\n",
       "    }\n",
       "\n",
       "    .dataframe tbody tr th {\n",
       "        vertical-align: top;\n",
       "    }\n",
       "\n",
       "    .dataframe thead th {\n",
       "        text-align: right;\n",
       "    }\n",
       "</style>\n",
       "<table border=\"1\" class=\"dataframe\">\n",
       "  <thead>\n",
       "    <tr style=\"text-align: right;\">\n",
       "      <th></th>\n",
       "      <th>Weeks</th>\n",
       "      <th>Contract_Renewal</th>\n",
       "      <th>Data_Plan</th>\n",
       "      <th>Data_Usage</th>\n",
       "      <th>Calls_To_Customer_Care</th>\n",
       "      <th>DayMins</th>\n",
       "      <th>DayCalls</th>\n",
       "      <th>MonthlyCharge</th>\n",
       "      <th>OverageFee</th>\n",
       "      <th>RoamMins</th>\n",
       "      <th>Customer_Attrition</th>\n",
       "    </tr>\n",
       "  </thead>\n",
       "  <tbody>\n",
       "  </tbody>\n",
       "</table>\n",
       "</div>"
      ],
      "text/plain": [
       "Empty DataFrame\n",
       "Columns: [Weeks, Contract_Renewal, Data_Plan, Data_Usage, Calls_To_Customer_Care, DayMins, DayCalls, MonthlyCharge, OverageFee, RoamMins, Customer_Attrition]\n",
       "Index: []"
      ]
     },
     "execution_count": 17,
     "metadata": {},
     "output_type": "execute_result"
    }
   ],
   "source": [
    "duplicate = dataset[dataset.duplicated(keep = False)]\n",
    "duplicate"
   ]
  },
  {
   "cell_type": "markdown",
   "metadata": {},
   "source": [
    "# Preprocessing"
   ]
  },
  {
   "cell_type": "code",
   "execution_count": null,
   "metadata": {},
   "outputs": [],
   "source": []
  },
  {
   "cell_type": "code",
   "execution_count": 18,
   "metadata": {},
   "outputs": [],
   "source": [
    "dataset['Customer_Attrition'] = np.where(dataset['Customer_Attrition']=='Yes',1,0)"
   ]
  },
  {
   "cell_type": "markdown",
   "metadata": {},
   "source": [
    "Splitting the dataset into X, y"
   ]
  },
  {
   "cell_type": "code",
   "execution_count": 19,
   "metadata": {},
   "outputs": [],
   "source": [
    "y = dataset['Customer_Attrition']\n",
    "X = dataset.drop('Customer_Attrition', axis = 1)"
   ]
  },
  {
   "cell_type": "markdown",
   "metadata": {},
   "source": [
    "### Treating missing values"
   ]
  },
  {
   "cell_type": "code",
   "execution_count": 20,
   "metadata": {},
   "outputs": [],
   "source": [
    "from numpy import isnan\n",
    "from sklearn.impute import KNNImputer"
   ]
  },
  {
   "cell_type": "code",
   "execution_count": 21,
   "metadata": {},
   "outputs": [],
   "source": [
    "imputer = KNNImputer(n_neighbors=3, missing_values = np.nan)\n",
    "X = imputer.fit_transform(X)"
   ]
  },
  {
   "cell_type": "code",
   "execution_count": 22,
   "metadata": {},
   "outputs": [
    {
     "name": "stdout",
     "output_type": "stream",
     "text": [
      "Missing: 0\n"
     ]
    }
   ],
   "source": [
    "print('Missing: %d' % sum(isnan(X).flatten()))"
   ]
  },
  {
   "cell_type": "code",
   "execution_count": null,
   "metadata": {},
   "outputs": [],
   "source": []
  },
  {
   "cell_type": "markdown",
   "metadata": {},
   "source": [
    "# Data exploration and visualization"
   ]
  },
  {
   "cell_type": "markdown",
   "metadata": {},
   "source": [
    "### Plots"
   ]
  },
  {
   "cell_type": "code",
   "execution_count": 23,
   "metadata": {},
   "outputs": [],
   "source": [
    "features = dataset.columns"
   ]
  },
  {
   "cell_type": "code",
   "execution_count": null,
   "metadata": {},
   "outputs": [],
   "source": []
  },
  {
   "cell_type": "code",
   "execution_count": 24,
   "metadata": {},
   "outputs": [
    {
     "data": {
      "text/html": [
       "<div>\n",
       "<style scoped>\n",
       "    .dataframe tbody tr th:only-of-type {\n",
       "        vertical-align: middle;\n",
       "    }\n",
       "\n",
       "    .dataframe tbody tr th {\n",
       "        vertical-align: top;\n",
       "    }\n",
       "\n",
       "    .dataframe thead th {\n",
       "        text-align: right;\n",
       "    }\n",
       "</style>\n",
       "<table border=\"1\" class=\"dataframe\">\n",
       "  <thead>\n",
       "    <tr style=\"text-align: right;\">\n",
       "      <th></th>\n",
       "      <th>Weeks</th>\n",
       "      <th>Contract_Renewal</th>\n",
       "      <th>Data_Plan</th>\n",
       "      <th>Data_Usage</th>\n",
       "      <th>Calls_To_Customer_Care</th>\n",
       "      <th>DayMins</th>\n",
       "      <th>DayCalls</th>\n",
       "      <th>MonthlyCharge</th>\n",
       "      <th>OverageFee</th>\n",
       "      <th>RoamMins</th>\n",
       "      <th>Customer_Attrition</th>\n",
       "    </tr>\n",
       "  </thead>\n",
       "  <tbody>\n",
       "    <tr>\n",
       "      <th>count</th>\n",
       "      <td>3328.000000</td>\n",
       "      <td>3322.000000</td>\n",
       "      <td>3327.000000</td>\n",
       "      <td>3330.000000</td>\n",
       "      <td>3330.000000</td>\n",
       "      <td>3329.000000</td>\n",
       "      <td>3330.000000</td>\n",
       "      <td>3329.000000</td>\n",
       "      <td>3330.000000</td>\n",
       "      <td>3330.000000</td>\n",
       "      <td>3331.000000</td>\n",
       "    </tr>\n",
       "    <tr>\n",
       "      <th>mean</th>\n",
       "      <td>101.060397</td>\n",
       "      <td>0.902769</td>\n",
       "      <td>0.276826</td>\n",
       "      <td>0.816495</td>\n",
       "      <td>1.563063</td>\n",
       "      <td>179.731481</td>\n",
       "      <td>100.428529</td>\n",
       "      <td>56.300721</td>\n",
       "      <td>10.051946</td>\n",
       "      <td>10.237027</td>\n",
       "      <td>0.145002</td>\n",
       "    </tr>\n",
       "    <tr>\n",
       "      <th>std</th>\n",
       "      <td>39.845384</td>\n",
       "      <td>0.296316</td>\n",
       "      <td>0.447497</td>\n",
       "      <td>1.272796</td>\n",
       "      <td>1.315990</td>\n",
       "      <td>54.477605</td>\n",
       "      <td>20.076165</td>\n",
       "      <td>16.433952</td>\n",
       "      <td>2.535758</td>\n",
       "      <td>2.792802</td>\n",
       "      <td>0.352155</td>\n",
       "    </tr>\n",
       "    <tr>\n",
       "      <th>min</th>\n",
       "      <td>1.000000</td>\n",
       "      <td>0.000000</td>\n",
       "      <td>0.000000</td>\n",
       "      <td>0.000000</td>\n",
       "      <td>0.000000</td>\n",
       "      <td>0.000000</td>\n",
       "      <td>0.000000</td>\n",
       "      <td>14.000000</td>\n",
       "      <td>0.000000</td>\n",
       "      <td>0.000000</td>\n",
       "      <td>0.000000</td>\n",
       "    </tr>\n",
       "    <tr>\n",
       "      <th>25%</th>\n",
       "      <td>74.000000</td>\n",
       "      <td>1.000000</td>\n",
       "      <td>0.000000</td>\n",
       "      <td>0.000000</td>\n",
       "      <td>1.000000</td>\n",
       "      <td>143.600000</td>\n",
       "      <td>87.000000</td>\n",
       "      <td>45.000000</td>\n",
       "      <td>8.330000</td>\n",
       "      <td>8.500000</td>\n",
       "      <td>0.000000</td>\n",
       "    </tr>\n",
       "    <tr>\n",
       "      <th>50%</th>\n",
       "      <td>101.000000</td>\n",
       "      <td>1.000000</td>\n",
       "      <td>0.000000</td>\n",
       "      <td>0.000000</td>\n",
       "      <td>1.000000</td>\n",
       "      <td>179.400000</td>\n",
       "      <td>101.000000</td>\n",
       "      <td>53.500000</td>\n",
       "      <td>10.070000</td>\n",
       "      <td>10.300000</td>\n",
       "      <td>0.000000</td>\n",
       "    </tr>\n",
       "    <tr>\n",
       "      <th>75%</th>\n",
       "      <td>127.000000</td>\n",
       "      <td>1.000000</td>\n",
       "      <td>1.000000</td>\n",
       "      <td>1.780000</td>\n",
       "      <td>2.000000</td>\n",
       "      <td>216.300000</td>\n",
       "      <td>114.000000</td>\n",
       "      <td>66.200000</td>\n",
       "      <td>11.770000</td>\n",
       "      <td>12.100000</td>\n",
       "      <td>0.000000</td>\n",
       "    </tr>\n",
       "    <tr>\n",
       "      <th>max</th>\n",
       "      <td>243.000000</td>\n",
       "      <td>1.000000</td>\n",
       "      <td>1.000000</td>\n",
       "      <td>5.400000</td>\n",
       "      <td>9.000000</td>\n",
       "      <td>350.800000</td>\n",
       "      <td>165.000000</td>\n",
       "      <td>111.300000</td>\n",
       "      <td>18.190000</td>\n",
       "      <td>20.000000</td>\n",
       "      <td>1.000000</td>\n",
       "    </tr>\n",
       "  </tbody>\n",
       "</table>\n",
       "</div>"
      ],
      "text/plain": [
       "             Weeks  Contract_Renewal    Data_Plan   Data_Usage  \\\n",
       "count  3328.000000       3322.000000  3327.000000  3330.000000   \n",
       "mean    101.060397          0.902769     0.276826     0.816495   \n",
       "std      39.845384          0.296316     0.447497     1.272796   \n",
       "min       1.000000          0.000000     0.000000     0.000000   \n",
       "25%      74.000000          1.000000     0.000000     0.000000   \n",
       "50%     101.000000          1.000000     0.000000     0.000000   \n",
       "75%     127.000000          1.000000     1.000000     1.780000   \n",
       "max     243.000000          1.000000     1.000000     5.400000   \n",
       "\n",
       "       Calls_To_Customer_Care      DayMins     DayCalls  MonthlyCharge  \\\n",
       "count             3330.000000  3329.000000  3330.000000    3329.000000   \n",
       "mean                 1.563063   179.731481   100.428529      56.300721   \n",
       "std                  1.315990    54.477605    20.076165      16.433952   \n",
       "min                  0.000000     0.000000     0.000000      14.000000   \n",
       "25%                  1.000000   143.600000    87.000000      45.000000   \n",
       "50%                  1.000000   179.400000   101.000000      53.500000   \n",
       "75%                  2.000000   216.300000   114.000000      66.200000   \n",
       "max                  9.000000   350.800000   165.000000     111.300000   \n",
       "\n",
       "        OverageFee     RoamMins  Customer_Attrition  \n",
       "count  3330.000000  3330.000000         3331.000000  \n",
       "mean     10.051946    10.237027            0.145002  \n",
       "std       2.535758     2.792802            0.352155  \n",
       "min       0.000000     0.000000            0.000000  \n",
       "25%       8.330000     8.500000            0.000000  \n",
       "50%      10.070000    10.300000            0.000000  \n",
       "75%      11.770000    12.100000            0.000000  \n",
       "max      18.190000    20.000000            1.000000  "
      ]
     },
     "execution_count": 24,
     "metadata": {},
     "output_type": "execute_result"
    }
   ],
   "source": [
    "dataset.describe()"
   ]
  },
  {
   "cell_type": "code",
   "execution_count": 25,
   "metadata": {},
   "outputs": [],
   "source": [
    "features_boxplot = ['Weeks', 'Calls_To_Customer_Care', 'DayMins', 'DayCalls', 'MonthlyCharge', 'OverageFee', 'RoamMins']"
   ]
  },
  {
   "cell_type": "code",
   "execution_count": null,
   "metadata": {},
   "outputs": [],
   "source": []
  },
  {
   "cell_type": "code",
   "execution_count": 26,
   "metadata": {},
   "outputs": [],
   "source": [
    "dataset_retained = dataset.loc[dataset['Customer_Attrition'] == 0] \n",
    "dataset_attrition = dataset.loc[dataset['Customer_Attrition'] == 1]"
   ]
  },
  {
   "cell_type": "code",
   "execution_count": 27,
   "metadata": {},
   "outputs": [
    {
     "data": {
      "image/png": "[encoded data removed]",
      "text/plain": [
       "<Figure size 1080x360 with 1 Axes>"
      ]
     },
     "metadata": {
      "needs_background": "light"
     },
     "output_type": "display_data"
    },
    {
     "data": {
      "image/png": "[encoded data removed]",
      "text/plain": [
       "<Figure size 1080x360 with 1 Axes>"
      ]
     },
     "metadata": {
      "needs_background": "light"
     },
     "output_type": "display_data"
    },
    {
     "data": {
      "image/png": "[encoded data removed]",
      "text/plain": [
       "<Figure size 1080x360 with 1 Axes>"
      ]
     },
     "metadata": {
      "needs_background": "light"
     },
     "output_type": "display_data"
    },
    {
     "data": {
      "image/png": "[encoded data removed]",
      "text/plain": [
       "<Figure size 1080x360 with 1 Axes>"
      ]
     },
     "metadata": {
      "needs_background": "light"
     },
     "output_type": "display_data"
    },
    {
     "data": {
      "image/png": "[encoded data removed]",
      "text/plain": [
       "<Figure size 1080x360 with 1 Axes>"
      ]
     },
     "metadata": {
      "needs_background": "light"
     },
     "output_type": "display_data"
    },
    {
     "data": {
      "image/png": "[encoded data removed]",
      "text/plain": [
       "<Figure size 1080x360 with 1 Axes>"
      ]
     },
     "metadata": {
      "needs_background": "light"
     },
     "output_type": "display_data"
    },
    {
     "data": {
      "image/png": "[encoded data removed]",
      "text/plain": [
       "<Figure size 1080x360 with 1 Axes>"
      ]
     },
     "metadata": {
      "needs_background": "light"
     },
     "output_type": "display_data"
    },
    {
     "data": {
      "image/png": "[encoded data removed]",
      "text/plain": [
       "<Figure size 1080x360 with 1 Axes>"
      ]
     },
     "metadata": {
      "needs_background": "light"
     },
     "output_type": "display_data"
    },
    {
     "data": {
      "image/png": "[encoded data removed]",
      "text/plain": [
       "<Figure size 1080x360 with 1 Axes>"
      ]
     },
     "metadata": {
      "needs_background": "light"
     },
     "output_type": "display_data"
    },
    {
     "data": {
      "image/png": "[encoded data removed]",
      "text/plain": [
       "<Figure size 1080x360 with 1 Axes>"
      ]
     },
     "metadata": {
      "needs_background": "light"
     },
     "output_type": "display_data"
    },
    {
     "data": {
      "image/png": "[encoded data removed]",
      "text/plain": [
       "<Figure size 1080x360 with 1 Axes>"
      ]
     },
     "metadata": {
      "needs_background": "light"
     },
     "output_type": "display_data"
    }
   ],
   "source": [
    "for feature in features:\n",
    "    fig= plt.figure(figsize=(15,5))\n",
    "    dataset_retained[feature].hist(bins=50, color='green', label='Customer_retained')\n",
    "    dataset_attrition[feature].hist(bins=50, color='red', label='customer_attrition')\n",
    "    plt.xlabel(feature)\n",
    "    plt.ylabel(\"Count\")\n",
    "    plt.title(feature)\n",
    "    plt.legend(loc='upper right')\n",
    "    plt.show()"
   ]
  },
  {
   "cell_type": "code",
   "execution_count": 28,
   "metadata": {},
   "outputs": [
    {
     "data": {
      "text/plain": [
       "<AxesSubplot:>"
      ]
     },
     "execution_count": 28,
     "metadata": {},
     "output_type": "execute_result"
    },
    {
     "data": {
      "image/png": "[encoded data removed]",
      "text/plain": [
       "<Figure size 1080x360 with 1 Axes>"
      ]
     },
     "metadata": {
      "needs_background": "light"
     },
     "output_type": "display_data"
    }
   ],
   "source": [
    "dataset_retained.boxplot(column = features_boxplot, figsize=(15,5), color='green')\n",
    "dataset_attrition.boxplot(column = features_boxplot, figsize=(15,5), color='red')"
   ]
  },
  {
   "cell_type": "code",
   "execution_count": 29,
   "metadata": {},
   "outputs": [
    {
     "data": {
      "image/png": "[encoded data removed]",
      "text/plain": [
       "<Figure size 1296x1296 with 2 Axes>"
      ]
     },
     "metadata": {
      "needs_background": "light"
     },
     "output_type": "display_data"
    }
   ],
   "source": [
    "# Finds correlation between Independent and dependent attributes\n",
    "plt.figure(figsize = (18,18))\n",
    "sns.heatmap(dataset.corr(), annot = True, cmap = \"coolwarm\")\n",
    "plt.show()"
   ]
  },
  {
   "cell_type": "markdown",
   "metadata": {},
   "source": [
    "# Feature Engineering"
   ]
  },
  {
   "cell_type": "markdown",
   "metadata": {},
   "source": [
    "### Train-test split"
   ]
  },
  {
   "cell_type": "code",
   "execution_count": 30,
   "metadata": {},
   "outputs": [],
   "source": [
    "from sklearn.model_selection import train_test_split"
   ]
  },
  {
   "cell_type": "code",
   "execution_count": 31,
   "metadata": {},
   "outputs": [],
   "source": [
    "X_train, X_test, y_train, y_test = train_test_split(X, y, stratify=y, random_state=42, test_size = 0.3)"
   ]
  },
  {
   "cell_type": "code",
   "execution_count": 32,
   "metadata": {},
   "outputs": [],
   "source": [
    "mean_on_train = X_train.mean(axis=0)\n",
    "std_on_train = X_train.std(axis=0)\n",
    "X_train_scaled = (X_train - mean_on_train) / std_on_train\n",
    "X_test_scaled = (X_test - mean_on_train) / std_on_train"
   ]
  },
  {
   "cell_type": "markdown",
   "metadata": {},
   "source": [
    "### Feature selection using Random Forest"
   ]
  },
  {
   "cell_type": "code",
   "execution_count": 33,
   "metadata": {},
   "outputs": [],
   "source": [
    "from sklearn.feature_selection import SelectFromModel\n",
    "from sklearn.ensemble import RandomForestClassifier"
   ]
  },
  {
   "cell_type": "code",
   "execution_count": 34,
   "metadata": {},
   "outputs": [],
   "source": [
    "select = SelectFromModel(\n",
    "RandomForestClassifier(n_estimators=100, random_state=42),\n",
    "threshold='0.8*median')"
   ]
  },
  {
   "cell_type": "code",
   "execution_count": 35,
   "metadata": {},
   "outputs": [
    {
     "name": "stdout",
     "output_type": "stream",
     "text": [
      "X_train_scaled.shape: (2331, 10)\n",
      "X_train_l1.shape: (2331, 7)\n",
      "X_test_l1.shape: (1000, 7)\n"
     ]
    }
   ],
   "source": [
    "select.fit(X_train_scaled, y_train)\n",
    "X_train_l1 = select.transform(X_train_scaled)\n",
    "X_test_l1 = select.transform(X_test_scaled)\n",
    "print(\"X_train_scaled.shape: {}\".format(X_train_scaled.shape))\n",
    "print(\"X_train_l1.shape: {}\".format(X_train_l1.shape))\n",
    "print(\"X_test_l1.shape: {}\".format(X_test_l1.shape))"
   ]
  },
  {
   "cell_type": "code",
   "execution_count": 36,
   "metadata": {},
   "outputs": [
    {
     "name": "stdout",
     "output_type": "stream",
     "text": [
      "[False  True False  True  True  True False  True  True  True]\n"
     ]
    },
    {
     "data": {
      "text/plain": [
       "Text(0.5, 0, 'Sample index')"
      ]
     },
     "execution_count": 36,
     "metadata": {},
     "output_type": "execute_result"
    },
    {
     "data": {
      "image/png": "[encoded data removed]",
      "text/plain": [
       "<Figure size 1152x144 with 1 Axes>"
      ]
     },
     "metadata": {
      "needs_background": "light"
     },
     "output_type": "display_data"
    }
   ],
   "source": [
    "mask = select.get_support()\n",
    "print(mask)\n",
    "# visualize the mask -- black is True, white is False\n",
    "plt.matshow(mask.reshape(1, -1), cmap='gray_r')\n",
    "plt.xlabel(\"Sample index\")"
   ]
  },
  {
   "cell_type": "markdown",
   "metadata": {},
   "source": [
    "# Model Building and Evaluation"
   ]
  },
  {
   "cell_type": "code",
   "execution_count": 37,
   "metadata": {},
   "outputs": [],
   "source": [
    "from collections import Counter\n",
    "from sklearn.metrics import accuracy_score,confusion_matrix,classification_report, matthews_corrcoef"
   ]
  },
  {
   "cell_type": "markdown",
   "metadata": {},
   "source": [
    "### Default Random forest Classifier"
   ]
  },
  {
   "cell_type": "code",
   "execution_count": 38,
   "metadata": {},
   "outputs": [
    {
     "data": {
      "text/plain": [
       "RandomForestClassifier()"
      ]
     },
     "execution_count": 38,
     "metadata": {},
     "output_type": "execute_result"
    }
   ],
   "source": [
    "rfc = RandomForestClassifier()\n",
    "rfc.fit(X_train_l1, y_train)"
   ]
  },
  {
   "cell_type": "code",
   "execution_count": 39,
   "metadata": {},
   "outputs": [
    {
     "name": "stdout",
     "output_type": "stream",
     "text": [
      "Confusion Matrix:\n",
      " [[842  13]\n",
      " [ 46  99]]\n",
      "Accuracy score: 0.941\n",
      "Classification report:\n",
      "               precision    recall  f1-score   support\n",
      "\n",
      "           0       0.95      0.98      0.97       855\n",
      "           1       0.88      0.68      0.77       145\n",
      "\n",
      "    accuracy                           0.94      1000\n",
      "   macro avg       0.92      0.83      0.87      1000\n",
      "weighted avg       0.94      0.94      0.94      1000\n",
      "\n",
      "Matthew Correlation Coefficient Score: 0.7453116835125085\n"
     ]
    }
   ],
   "source": [
    "y_pred=rfc.predict(X_test_l1)\n",
    "print(\"Confusion Matrix:\\n {}\".format(confusion_matrix(y_test,y_pred)))\n",
    "print(\"Accuracy score: {}\".format(accuracy_score(y_test,y_pred)))\n",
    "print(\"Classification report:\\n {}\".format(classification_report(y_test,y_pred)))\n",
    "print(\"Matthew Correlation Coefficient Score: {}\".format(matthews_corrcoef(y_test,y_pred)))"
   ]
  },
  {
   "cell_type": "markdown",
   "metadata": {},
   "source": [
    "### Random Forest Classifier with Over Sampling"
   ]
  },
  {
   "cell_type": "code",
   "execution_count": 40,
   "metadata": {},
   "outputs": [],
   "source": [
    "from imblearn.over_sampling import RandomOverSampler"
   ]
  },
  {
   "cell_type": "code",
   "execution_count": 41,
   "metadata": {},
   "outputs": [
    {
     "name": "stdout",
     "output_type": "stream",
     "text": [
      "The number of classes before fit Counter({0: 1993, 1: 338})\n",
      "The number of classes after fit Counter({0: 1993, 1: 1395})\n"
     ]
    },
    {
     "name": "stderr",
     "output_type": "stream",
     "text": [
      "C:\\Users\\MSI-PC\\anaconda3\\lib\\site-packages\\imblearn\\utils\\_validation.py:587: FutureWarning: Pass sampling_strategy=0.7 as keyword args. From version 0.9 passing these as positional arguments will result in an error\n",
      "  warnings.warn(\n"
     ]
    }
   ],
   "source": [
    "os=RandomOverSampler(0.70)\n",
    "X_train_os,y_train_os= os.fit_resample(X_train_l1,y_train)\n",
    "print(\"The number of classes before fit {}\".format(Counter(y_train)))\n",
    "print(\"The number of classes after fit {}\".format(Counter(y_train_os)))"
   ]
  },
  {
   "cell_type": "code",
   "execution_count": 42,
   "metadata": {},
   "outputs": [
    {
     "data": {
      "text/plain": [
       "RandomForestClassifier()"
      ]
     },
     "execution_count": 42,
     "metadata": {},
     "output_type": "execute_result"
    }
   ],
   "source": [
    "rfc = RandomForestClassifier()\n",
    "rfc.fit(X_train_os, y_train_os)"
   ]
  },
  {
   "cell_type": "code",
   "execution_count": 43,
   "metadata": {},
   "outputs": [
    {
     "name": "stdout",
     "output_type": "stream",
     "text": [
      "Confusion Matrix:\n",
      " [[830  25]\n",
      " [ 35 110]]\n",
      "Accuracy score: 0.94\n",
      "Classification report:\n",
      "               precision    recall  f1-score   support\n",
      "\n",
      "           0       0.96      0.97      0.97       855\n",
      "           1       0.81      0.76      0.79       145\n",
      "\n",
      "    accuracy                           0.94      1000\n",
      "   macro avg       0.89      0.86      0.88      1000\n",
      "weighted avg       0.94      0.94      0.94      1000\n",
      "\n",
      "Matthew Correlation Coefficient Score: 0.7515303448641891\n"
     ]
    }
   ],
   "source": [
    "y_pred=rfc.predict(X_test_l1)\n",
    "print(\"Confusion Matrix:\\n {}\".format(confusion_matrix(y_test,y_pred)))\n",
    "print(\"Accuracy score: {}\".format(accuracy_score(y_test,y_pred)))\n",
    "print(\"Classification report:\\n {}\".format(classification_report(y_test,y_pred)))\n",
    "print(\"Matthew Correlation Coefficient Score: {}\".format(matthews_corrcoef(y_test,y_pred)))"
   ]
  },
  {
   "cell_type": "markdown",
   "metadata": {},
   "source": [
    "### Random Forest Classifier with SMOTETomek"
   ]
  },
  {
   "cell_type": "code",
   "execution_count": 44,
   "metadata": {},
   "outputs": [],
   "source": [
    "from imblearn.combine import SMOTETomek"
   ]
  },
  {
   "cell_type": "code",
   "execution_count": 45,
   "metadata": {},
   "outputs": [
    {
     "name": "stdout",
     "output_type": "stream",
     "text": [
      "The number of classes before fit Counter({0: 1993, 1: 338})\n",
      "The number of classes after fit Counter({0: 1960, 1: 1362})\n"
     ]
    },
    {
     "name": "stderr",
     "output_type": "stream",
     "text": [
      "C:\\Users\\MSI-PC\\anaconda3\\lib\\site-packages\\imblearn\\utils\\_validation.py:587: FutureWarning: Pass sampling_strategy=0.7 as keyword args. From version 0.9 passing these as positional arguments will result in an error\n",
      "  warnings.warn(\n"
     ]
    }
   ],
   "source": [
    "so=SMOTETomek(0.70)\n",
    "X_train_so,y_train_so= so.fit_resample(X_train_l1,y_train)\n",
    "print(\"The number of classes before fit {}\".format(Counter(y_train)))\n",
    "print(\"The number of classes after fit {}\".format(Counter(y_train_so)))"
   ]
  },
  {
   "cell_type": "code",
   "execution_count": 46,
   "metadata": {},
   "outputs": [
    {
     "data": {
      "text/plain": [
       "RandomForestClassifier()"
      ]
     },
     "execution_count": 46,
     "metadata": {},
     "output_type": "execute_result"
    }
   ],
   "source": [
    "rfc = RandomForestClassifier()\n",
    "rfc.fit(X_train_so, y_train_so)"
   ]
  },
  {
   "cell_type": "code",
   "execution_count": 47,
   "metadata": {},
   "outputs": [
    {
     "name": "stdout",
     "output_type": "stream",
     "text": [
      "Confusion Matrix:\n",
      " [[817  38]\n",
      " [ 36 109]]\n",
      "Accuracy score: 0.926\n",
      "Classification report:\n",
      "               precision    recall  f1-score   support\n",
      "\n",
      "           0       0.96      0.96      0.96       855\n",
      "           1       0.74      0.75      0.75       145\n",
      "\n",
      "    accuracy                           0.93      1000\n",
      "   macro avg       0.85      0.85      0.85      1000\n",
      "weighted avg       0.93      0.93      0.93      1000\n",
      "\n",
      "Matthew Correlation Coefficient Score: 0.7032748145448995\n"
     ]
    }
   ],
   "source": [
    "y_pred=rfc.predict(X_test_l1)\n",
    "print(\"Confusion Matrix:\\n {}\".format(confusion_matrix(y_test,y_pred)))\n",
    "print(\"Accuracy score: {}\".format(accuracy_score(y_test,y_pred)))\n",
    "print(\"Classification report:\\n {}\".format(classification_report(y_test,y_pred)))\n",
    "print(\"Matthew Correlation Coefficient Score: {}\".format(matthews_corrcoef(y_test,y_pred)))"
   ]
  },
  {
   "cell_type": "markdown",
   "metadata": {},
   "source": [
    "### Random Forest Classifier with hypertuning and SMOTETomek"
   ]
  },
  {
   "cell_type": "code",
   "execution_count": 48,
   "metadata": {},
   "outputs": [],
   "source": [
    "from sklearn.model_selection import KFold\n",
    "from sklearn.model_selection import GridSearchCV, StratifiedKFold"
   ]
  },
  {
   "cell_type": "code",
   "execution_count": 49,
   "metadata": {},
   "outputs": [],
   "source": [
    "param_grid = {'n_estimators': [100, 150, 200], 'max_depth':[4,8,16], 'min_samples_split':[8,16,24]}\n",
    "cv=KFold(n_splits=5,random_state=None,shuffle=False)"
   ]
  },
  {
   "cell_type": "code",
   "execution_count": 50,
   "metadata": {},
   "outputs": [
    {
     "data": {
      "text/plain": [
       "GridSearchCV(cv=KFold(n_splits=5, random_state=None, shuffle=False),\n",
       "             estimator=RandomForestClassifier(), n_jobs=-1,\n",
       "             param_grid={'max_depth': [4, 8, 16],\n",
       "                         'min_samples_split': [8, 16, 24],\n",
       "                         'n_estimators': [100, 150, 200]},\n",
       "             scoring='f1_macro')"
      ]
     },
     "execution_count": 50,
     "metadata": {},
     "output_type": "execute_result"
    }
   ],
   "source": [
    "grfc=GridSearchCV(RandomForestClassifier(), param_grid=param_grid, cv=cv, n_jobs=-1, scoring='f1_macro')\n",
    "grfc.fit(X_train_so,y_train_so)"
   ]
  },
  {
   "cell_type": "code",
   "execution_count": 51,
   "metadata": {},
   "outputs": [
    {
     "name": "stdout",
     "output_type": "stream",
     "text": [
      "RandomForestClassifier(max_depth=16, min_samples_split=8, n_estimators=150)\n"
     ]
    },
    {
     "data": {
      "text/plain": [
       "{'max_depth': 16, 'min_samples_split': 8, 'n_estimators': 150}"
      ]
     },
     "execution_count": 51,
     "metadata": {},
     "output_type": "execute_result"
    }
   ],
   "source": [
    "print(grfc.best_estimator_)\n",
    "grfc.best_params_\n"
   ]
  },
  {
   "cell_type": "code",
   "execution_count": 52,
   "metadata": {},
   "outputs": [
    {
     "name": "stdout",
     "output_type": "stream",
     "text": [
      "Confusion Matrix:\n",
      " [[815  40]\n",
      " [ 32 113]]\n",
      "Accuracy score: 0.928\n",
      "Classification report:\n",
      "               precision    recall  f1-score   support\n",
      "\n",
      "           0       0.96      0.95      0.96       855\n",
      "           1       0.74      0.78      0.76       145\n",
      "\n",
      "    accuracy                           0.93      1000\n",
      "   macro avg       0.85      0.87      0.86      1000\n",
      "weighted avg       0.93      0.93      0.93      1000\n",
      "\n",
      "Matthew Correlation Coefficient Score: 0.7164784101716051\n"
     ]
    }
   ],
   "source": [
    "y_pred=grfc.predict(X_test_l1)\n",
    "print(\"Confusion Matrix:\\n {}\".format(confusion_matrix(y_test,y_pred)))\n",
    "print(\"Accuracy score: {}\".format(accuracy_score(y_test,y_pred)))\n",
    "print(\"Classification report:\\n {}\".format(classification_report(y_test,y_pred)))\n",
    "print(\"Matthew Correlation Coefficient Score: {}\".format(matthews_corrcoef(y_test,y_pred)))"
   ]
  },
  {
   "cell_type": "markdown",
   "metadata": {},
   "source": [
    "## Feature Importance"
   ]
  },
  {
   "cell_type": "code",
   "execution_count": 53,
   "metadata": {},
   "outputs": [
    {
     "name": "stdout",
     "output_type": "stream",
     "text": [
      "Feature: 0, Score: 0.12106\n",
      "Feature: 1, Score: 0.10742\n",
      "Feature: 2, Score: 0.22837\n",
      "Feature: 3, Score: 0.19872\n",
      "Feature: 4, Score: 0.17784\n",
      "Feature: 5, Score: 0.09861\n",
      "Feature: 6, Score: 0.06799\n"
     ]
    },
    {
     "data": {
      "image/png": "[encoded data removed]",
      "text/plain": [
       "<Figure size 432x288 with 1 Axes>"
      ]
     },
     "metadata": {
      "needs_background": "light"
     },
     "output_type": "display_data"
    }
   ],
   "source": [
    "importance = grfc.best_estimator_.feature_importances_\n",
    "# summarize feature importance\n",
    "for i,v in enumerate(importance):\n",
    "\tprint('Feature: %0d, Score: %.5f' % (i,v))\n",
    "# plot feature importance\n",
    "plt.bar([x for x in range(len(importance))], importance)\n",
    "plt.show()"
   ]
  },
  {
   "cell_type": "code",
   "execution_count": null,
   "metadata": {},
   "outputs": [],
   "source": []
  },
  {
   "cell_type": "code",
   "execution_count": null,
   "metadata": {},
   "outputs": [],
   "source": []
  },
  {
   "cell_type": "code",
   "execution_count": null,
   "metadata": {},
   "outputs": [],
   "source": []
  },
  {
   "cell_type": "code",
   "execution_count": null,
   "metadata": {},
   "outputs": [],
   "source": []
  },
  {
   "cell_type": "code",
   "execution_count": null,
   "metadata": {},
   "outputs": [],
   "source": []
  },
  {
   "cell_type": "code",
   "execution_count": null,
   "metadata": {},
   "outputs": [],
   "source": []
  },
  {
   "cell_type": "code",
   "execution_count": null,
   "metadata": {},
   "outputs": [],
   "source": []
  },
  {
   "cell_type": "code",
   "execution_count": null,
   "metadata": {},
   "outputs": [],
   "source": []
  },
  {
   "cell_type": "code",
   "execution_count": null,
   "metadata": {},
   "outputs": [],
   "source": []
  },
  {
   "cell_type": "code",
   "execution_count": null,
   "metadata": {},
   "outputs": [],
   "source": []
  },
  {
   "cell_type": "code",
   "execution_count": null,
   "metadata": {},
   "outputs": [],
   "source": []
  },
  {
   "cell_type": "code",
   "execution_count": null,
   "metadata": {},
   "outputs": [],
   "source": []
  },
  {
   "cell_type": "code",
   "execution_count": null,
   "metadata": {},
   "outputs": [],
   "source": []
  },
  {
   "cell_type": "code",
   "execution_count": null,
   "metadata": {},
   "outputs": [],
   "source": []
  },
  {
   "cell_type": "code",
   "execution_count": null,
   "metadata": {},
   "outputs": [],
   "source": []
  },
  {
   "cell_type": "code",
   "execution_count": null,
   "metadata": {},
   "outputs": [],
   "source": []
  },
  {
   "cell_type": "code",
   "execution_count": null,
   "metadata": {},
   "outputs": [],
   "source": []
  },
  {
   "cell_type": "code",
   "execution_count": null,
   "metadata": {},
   "outputs": [],
   "source": []
  },
  {
   "cell_type": "code",
   "execution_count": null,
   "metadata": {},
   "outputs": [],
   "source": []
  },
  {
   "cell_type": "code",
   "execution_count": null,
   "metadata": {},
   "outputs": [],
   "source": []
  },
  {
   "cell_type": "code",
   "execution_count": null,
   "metadata": {},
   "outputs": [],
   "source": []
  },
  {
   "cell_type": "code",
   "execution_count": null,
   "metadata": {},
   "outputs": [],
   "source": []
  },
  {
   "cell_type": "code",
   "execution_count": null,
   "metadata": {},
   "outputs": [],
   "source": []
  },
  {
   "cell_type": "code",
   "execution_count": null,
   "metadata": {},
   "outputs": [],
   "source": []
  },
  {
   "cell_type": "code",
   "execution_count": null,
   "metadata": {},
   "outputs": [],
   "source": []
  }
 ],
 "metadata": {
  "kernelspec": {
   "display_name": "Python 3",
   "language": "python",
   "name": "python3"
  },
  "language_info": {
   "codemirror_mode": {
    "name": "ipython",
    "version": 3
   },
   "file_extension": ".py",
   "mimetype": "text/x-python",
   "name": "python",
   "nbconvert_exporter": "python",
   "pygments_lexer": "ipython3",
   "version": "3.8.8"
  }
 },
 "nbformat": 4,
 "nbformat_minor": 4
}
